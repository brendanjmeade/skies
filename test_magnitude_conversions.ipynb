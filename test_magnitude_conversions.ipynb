{
 "cells": [
  {
   "cell_type": "code",
   "execution_count": null,
   "metadata": {},
   "outputs": [],
   "source": [
    "import numpy as np\n",
    "\n",
    "def moment_to_moment_magnitude(moment):\n",
    "    \"\"\"\n",
    "    Convert moment to moment magnitude\n",
    "    Assumes MKS units\n",
    "    \"\"\"\n",
    "    moment_magnitude = 2.0 / 3.0 * (np.log10(moment) - 9.05)\n",
    "    return moment_magnitude\n",
    "\n",
    "\n",
    "def moment_magnitude_to_moment(moment_magnitude):\n",
    "    \"\"\"\n",
    "    Convert moment magnitude to moment\n",
    "    Assumes MKS units\n",
    "    \"\"\"\n",
    "    moment = 10 ** (3.0 / 2.0 * moment_magnitude + 9.05)\n",
    "    return moment\n",
    "\n",
    "\n",
    "# A 1992 Landers-like earthquake example\n",
    "KILOMETERS_TO_METERS = 1e3\n",
    "shear_modulus = 3e10\n",
    "fault_slip = 5\n",
    "fault_length = 70 * KILOMETERS_TO_METERS\n",
    "fault_depth = 10 * KILOMETERS_TO_METERS\n",
    "\n",
    "original_moment = shear_modulus * fault_slip * fault_length * fault_depth\n",
    "moment_magnitude = moment_to_moment_magnitude(original_moment)\n",
    "recovered_moment = moment_magnitude_to_moment(moment_magnitude)\n",
    "\n",
    "print(f\"{original_moment=:0.2e}\")\n",
    "print(f\"{moment_magnitude=:0.2f}\")\n",
    "print(f\"{recovered_moment=:0.2e}\")\n",
    "print(f\"{np.isclose(original_moment, recovered_moment)=}\")\n"
   ]
  },
  {
   "cell_type": "code",
   "execution_count": null,
   "metadata": {},
   "outputs": [],
   "source": []
  }
 ],
 "metadata": {
  "kernelspec": {
   "display_name": "Python 3.10.6 ('skies')",
   "language": "python",
   "name": "python3"
  },
  "language_info": {
   "codemirror_mode": {
    "name": "ipython",
    "version": 3
   },
   "file_extension": ".py",
   "mimetype": "text/x-python",
   "name": "python",
   "nbconvert_exporter": "python",
   "pygments_lexer": "ipython3",
   "version": "3.10.6"
  },
  "orig_nbformat": 4,
  "vscode": {
   "interpreter": {
    "hash": "958557df22cbe81e98d59acf449326e362496737a00c7832d7d66de975b82f73"
   }
  }
 },
 "nbformat": 4,
 "nbformat_minor": 2
}
